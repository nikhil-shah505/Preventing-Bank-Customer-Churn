{
  "nbformat": 4,
  "nbformat_minor": 0,
  "metadata": {
    "colab": {
      "name": "Churn Rate_ANN.ipynb",
      "provenance": []
    },
    "kernelspec": {
      "name": "python3",
      "display_name": "Python 3"
    },
    "language_info": {
      "name": "python"
    }
  },
  "cells": [
    {
      "cell_type": "code",
      "metadata": {
        "id": "IEon-BxRRCcz"
      },
      "source": [
        "import numpy as np\n",
        "import pandas as pd\n",
        "import matplotlib.pyplot as plt"
      ],
      "execution_count": 21,
      "outputs": []
    },
    {
      "cell_type": "code",
      "metadata": {
        "id": "BqnLBTzMnHix"
      },
      "source": [
        "!pip install tensorflow"
      ],
      "execution_count": null,
      "outputs": []
    },
    {
      "cell_type": "code",
      "metadata": {
        "colab": {
          "base_uri": "https://localhost:8080/",
          "height": 226
        },
        "id": "Dn1-1ntZS1fY",
        "outputId": "83990d8e-5d35-4b03-bcdb-dc668e19da7a"
      },
      "source": [
        "#Importing dataset\n",
        "df = pd.read_csv(\"/content/Churn_Modelling.csv\")\n",
        "df.head()"
      ],
      "execution_count": 22,
      "outputs": [
        {
          "output_type": "execute_result",
          "data": {
            "text/html": [
              "<div>\n",
              "<style scoped>\n",
              "    .dataframe tbody tr th:only-of-type {\n",
              "        vertical-align: middle;\n",
              "    }\n",
              "\n",
              "    .dataframe tbody tr th {\n",
              "        vertical-align: top;\n",
              "    }\n",
              "\n",
              "    .dataframe thead th {\n",
              "        text-align: right;\n",
              "    }\n",
              "</style>\n",
              "<table border=\"1\" class=\"dataframe\">\n",
              "  <thead>\n",
              "    <tr style=\"text-align: right;\">\n",
              "      <th></th>\n",
              "      <th>RowNumber</th>\n",
              "      <th>CustomerId</th>\n",
              "      <th>Surname</th>\n",
              "      <th>CreditScore</th>\n",
              "      <th>Geography</th>\n",
              "      <th>Gender</th>\n",
              "      <th>Age</th>\n",
              "      <th>Tenure</th>\n",
              "      <th>Balance</th>\n",
              "      <th>NumOfProducts</th>\n",
              "      <th>HasCrCard</th>\n",
              "      <th>IsActiveMember</th>\n",
              "      <th>EstimatedSalary</th>\n",
              "      <th>Exited</th>\n",
              "    </tr>\n",
              "  </thead>\n",
              "  <tbody>\n",
              "    <tr>\n",
              "      <th>0</th>\n",
              "      <td>1</td>\n",
              "      <td>15634602</td>\n",
              "      <td>Hargrave</td>\n",
              "      <td>619</td>\n",
              "      <td>France</td>\n",
              "      <td>Female</td>\n",
              "      <td>42</td>\n",
              "      <td>2</td>\n",
              "      <td>0.00</td>\n",
              "      <td>1</td>\n",
              "      <td>1</td>\n",
              "      <td>1</td>\n",
              "      <td>101348.88</td>\n",
              "      <td>1</td>\n",
              "    </tr>\n",
              "    <tr>\n",
              "      <th>1</th>\n",
              "      <td>2</td>\n",
              "      <td>15647311</td>\n",
              "      <td>Hill</td>\n",
              "      <td>608</td>\n",
              "      <td>Spain</td>\n",
              "      <td>Female</td>\n",
              "      <td>41</td>\n",
              "      <td>1</td>\n",
              "      <td>83807.86</td>\n",
              "      <td>1</td>\n",
              "      <td>0</td>\n",
              "      <td>1</td>\n",
              "      <td>112542.58</td>\n",
              "      <td>0</td>\n",
              "    </tr>\n",
              "    <tr>\n",
              "      <th>2</th>\n",
              "      <td>3</td>\n",
              "      <td>15619304</td>\n",
              "      <td>Onio</td>\n",
              "      <td>502</td>\n",
              "      <td>France</td>\n",
              "      <td>Female</td>\n",
              "      <td>42</td>\n",
              "      <td>8</td>\n",
              "      <td>159660.80</td>\n",
              "      <td>3</td>\n",
              "      <td>1</td>\n",
              "      <td>0</td>\n",
              "      <td>113931.57</td>\n",
              "      <td>1</td>\n",
              "    </tr>\n",
              "    <tr>\n",
              "      <th>3</th>\n",
              "      <td>4</td>\n",
              "      <td>15701354</td>\n",
              "      <td>Boni</td>\n",
              "      <td>699</td>\n",
              "      <td>France</td>\n",
              "      <td>Female</td>\n",
              "      <td>39</td>\n",
              "      <td>1</td>\n",
              "      <td>0.00</td>\n",
              "      <td>2</td>\n",
              "      <td>0</td>\n",
              "      <td>0</td>\n",
              "      <td>93826.63</td>\n",
              "      <td>0</td>\n",
              "    </tr>\n",
              "    <tr>\n",
              "      <th>4</th>\n",
              "      <td>5</td>\n",
              "      <td>15737888</td>\n",
              "      <td>Mitchell</td>\n",
              "      <td>850</td>\n",
              "      <td>Spain</td>\n",
              "      <td>Female</td>\n",
              "      <td>43</td>\n",
              "      <td>2</td>\n",
              "      <td>125510.82</td>\n",
              "      <td>1</td>\n",
              "      <td>1</td>\n",
              "      <td>1</td>\n",
              "      <td>79084.10</td>\n",
              "      <td>0</td>\n",
              "    </tr>\n",
              "  </tbody>\n",
              "</table>\n",
              "</div>"
            ],
            "text/plain": [
              "   RowNumber  CustomerId   Surname  ...  IsActiveMember EstimatedSalary Exited\n",
              "0          1    15634602  Hargrave  ...               1       101348.88      1\n",
              "1          2    15647311      Hill  ...               1       112542.58      0\n",
              "2          3    15619304      Onio  ...               0       113931.57      1\n",
              "3          4    15701354      Boni  ...               0        93826.63      0\n",
              "4          5    15737888  Mitchell  ...               1        79084.10      0\n",
              "\n",
              "[5 rows x 14 columns]"
            ]
          },
          "metadata": {
            "tags": []
          },
          "execution_count": 22
        }
      ]
    },
    {
      "cell_type": "code",
      "metadata": {
        "id": "s4bX3oI1Tz4j"
      },
      "source": [
        "#Preprocessing, Creating dummy variables\n",
        "x= df.iloc[:,3:13]\n",
        "y=df.iloc[:,13]\n",
        "cat_cols = [\"Geography\",\"Gender\"]\n",
        "x = pd.get_dummies(x,columns=cat_cols,drop_first=True)"
      ],
      "execution_count": 23,
      "outputs": []
    },
    {
      "cell_type": "code",
      "metadata": {
        "colab": {
          "base_uri": "https://localhost:8080/",
          "height": 226
        },
        "id": "1mtAKfKiUEEi",
        "outputId": "cff07b7a-630e-425d-a919-4bd52f2a1a0d"
      },
      "source": [
        "x.head()"
      ],
      "execution_count": 24,
      "outputs": [
        {
          "output_type": "execute_result",
          "data": {
            "text/html": [
              "<div>\n",
              "<style scoped>\n",
              "    .dataframe tbody tr th:only-of-type {\n",
              "        vertical-align: middle;\n",
              "    }\n",
              "\n",
              "    .dataframe tbody tr th {\n",
              "        vertical-align: top;\n",
              "    }\n",
              "\n",
              "    .dataframe thead th {\n",
              "        text-align: right;\n",
              "    }\n",
              "</style>\n",
              "<table border=\"1\" class=\"dataframe\">\n",
              "  <thead>\n",
              "    <tr style=\"text-align: right;\">\n",
              "      <th></th>\n",
              "      <th>CreditScore</th>\n",
              "      <th>Age</th>\n",
              "      <th>Tenure</th>\n",
              "      <th>Balance</th>\n",
              "      <th>NumOfProducts</th>\n",
              "      <th>HasCrCard</th>\n",
              "      <th>IsActiveMember</th>\n",
              "      <th>EstimatedSalary</th>\n",
              "      <th>Geography_Germany</th>\n",
              "      <th>Geography_Spain</th>\n",
              "      <th>Gender_Male</th>\n",
              "    </tr>\n",
              "  </thead>\n",
              "  <tbody>\n",
              "    <tr>\n",
              "      <th>0</th>\n",
              "      <td>619</td>\n",
              "      <td>42</td>\n",
              "      <td>2</td>\n",
              "      <td>0.00</td>\n",
              "      <td>1</td>\n",
              "      <td>1</td>\n",
              "      <td>1</td>\n",
              "      <td>101348.88</td>\n",
              "      <td>0</td>\n",
              "      <td>0</td>\n",
              "      <td>0</td>\n",
              "    </tr>\n",
              "    <tr>\n",
              "      <th>1</th>\n",
              "      <td>608</td>\n",
              "      <td>41</td>\n",
              "      <td>1</td>\n",
              "      <td>83807.86</td>\n",
              "      <td>1</td>\n",
              "      <td>0</td>\n",
              "      <td>1</td>\n",
              "      <td>112542.58</td>\n",
              "      <td>0</td>\n",
              "      <td>1</td>\n",
              "      <td>0</td>\n",
              "    </tr>\n",
              "    <tr>\n",
              "      <th>2</th>\n",
              "      <td>502</td>\n",
              "      <td>42</td>\n",
              "      <td>8</td>\n",
              "      <td>159660.80</td>\n",
              "      <td>3</td>\n",
              "      <td>1</td>\n",
              "      <td>0</td>\n",
              "      <td>113931.57</td>\n",
              "      <td>0</td>\n",
              "      <td>0</td>\n",
              "      <td>0</td>\n",
              "    </tr>\n",
              "    <tr>\n",
              "      <th>3</th>\n",
              "      <td>699</td>\n",
              "      <td>39</td>\n",
              "      <td>1</td>\n",
              "      <td>0.00</td>\n",
              "      <td>2</td>\n",
              "      <td>0</td>\n",
              "      <td>0</td>\n",
              "      <td>93826.63</td>\n",
              "      <td>0</td>\n",
              "      <td>0</td>\n",
              "      <td>0</td>\n",
              "    </tr>\n",
              "    <tr>\n",
              "      <th>4</th>\n",
              "      <td>850</td>\n",
              "      <td>43</td>\n",
              "      <td>2</td>\n",
              "      <td>125510.82</td>\n",
              "      <td>1</td>\n",
              "      <td>1</td>\n",
              "      <td>1</td>\n",
              "      <td>79084.10</td>\n",
              "      <td>0</td>\n",
              "      <td>1</td>\n",
              "      <td>0</td>\n",
              "    </tr>\n",
              "  </tbody>\n",
              "</table>\n",
              "</div>"
            ],
            "text/plain": [
              "   CreditScore  Age  Tenure  ...  Geography_Germany  Geography_Spain  Gender_Male\n",
              "0          619   42       2  ...                  0                0            0\n",
              "1          608   41       1  ...                  0                1            0\n",
              "2          502   42       8  ...                  0                0            0\n",
              "3          699   39       1  ...                  0                0            0\n",
              "4          850   43       2  ...                  0                1            0\n",
              "\n",
              "[5 rows x 11 columns]"
            ]
          },
          "metadata": {
            "tags": []
          },
          "execution_count": 24
        }
      ]
    },
    {
      "cell_type": "code",
      "metadata": {
        "id": "_w9hlupYVm5f"
      },
      "source": [
        "# Spliting dataset into train and test\n",
        "from sklearn.model_selection import train_test_split\n",
        "x_train, x_test, y_train, y_test= train_test_split(x,y, test_size=0.2, random_state=0)"
      ],
      "execution_count": 25,
      "outputs": []
    },
    {
      "cell_type": "code",
      "metadata": {
        "id": "KYooEp5vWckl"
      },
      "source": [
        "# Feature Scaling\n",
        "from sklearn.preprocessing import StandardScaler\n",
        "sc = StandardScaler()\n",
        "x_train=sc.fit_transform(x_train)\n",
        "x_test=sc.fit_transform(x_test)"
      ],
      "execution_count": 26,
      "outputs": []
    },
    {
      "cell_type": "code",
      "metadata": {
        "id": "WYgBEGt6Xx8O"
      },
      "source": [
        "#Importing keras and other libraries to build ANN Model \n",
        "import keras\n",
        "from keras.models import Sequential\n",
        "from keras.layers import Dense\n",
        "#from keras.layers import LeakyRely, Prely, ELU\n",
        "from keras.layers import Dropout"
      ],
      "execution_count": 35,
      "outputs": []
    },
    {
      "cell_type": "code",
      "metadata": {
        "id": "7FLGGK8Qk5Bq"
      },
      "source": [
        "#Building ANN Model\n",
        "model = Sequential()\n",
        "# Input Layer and 1st Hidden Layer\n",
        "model.add(Dense(units =10, kernel_initializer='he_uniform', activation='relu', input_dim=11))\n",
        "# 2nd Hidden Layer\n",
        "model.add(Dense(units= 20, kernel_initializer='he_uniform', activation='relu', ))\n",
        "# 3rd Hidden Layer\n",
        "model.add(Dense(units=10, kernel_initializer='he_uniform', activation='relu', ))\n",
        "# Output Layer\n",
        "model.add(Dense(units=1, kernel_initializer='glorot_uniform', activation='sigmoid'))\n"
      ],
      "execution_count": 68,
      "outputs": []
    },
    {
      "cell_type": "code",
      "metadata": {
        "id": "dsZqvtNBD6bn"
      },
      "source": [
        "# Model Compilation\n",
        "model.compile(optimizer='Adamax', loss='binary_crossentropy', metrics=['accuracy'])"
      ],
      "execution_count": 69,
      "outputs": []
    },
    {
      "cell_type": "code",
      "metadata": {
        "id": "-Np-fTYBFLvM",
        "outputId": "fc613d96-e9eb-4646-ab64-b77af1ecdd4f",
        "colab": {
          "base_uri": "https://localhost:8080/"
        }
      },
      "source": [
        "# Fiting the model to the training dataset\n",
        "model_fit= model.fit(x_train, y_train, validation_split= 0.3, batch_size= 15, epochs= 50)"
      ],
      "execution_count": 70,
      "outputs": [
        {
          "output_type": "stream",
          "text": [
            "Epoch 1/50\n",
            "374/374 [==============================] - 2s 3ms/step - loss: 0.5597 - accuracy: 0.7471 - val_loss: 0.5205 - val_accuracy: 0.7904\n",
            "Epoch 2/50\n",
            "374/374 [==============================] - 1s 2ms/step - loss: 0.4964 - accuracy: 0.8002 - val_loss: 0.4926 - val_accuracy: 0.7967\n",
            "Epoch 3/50\n",
            "374/374 [==============================] - 1s 2ms/step - loss: 0.4695 - accuracy: 0.8114 - val_loss: 0.4746 - val_accuracy: 0.8037\n",
            "Epoch 4/50\n",
            "374/374 [==============================] - 1s 2ms/step - loss: 0.4520 - accuracy: 0.8170 - val_loss: 0.4611 - val_accuracy: 0.8042\n",
            "Epoch 5/50\n",
            "374/374 [==============================] - 1s 2ms/step - loss: 0.4381 - accuracy: 0.8184 - val_loss: 0.4499 - val_accuracy: 0.8087\n",
            "Epoch 6/50\n",
            "374/374 [==============================] - 1s 2ms/step - loss: 0.4272 - accuracy: 0.8221 - val_loss: 0.4416 - val_accuracy: 0.8108\n",
            "Epoch 7/50\n",
            "374/374 [==============================] - 1s 2ms/step - loss: 0.4178 - accuracy: 0.8241 - val_loss: 0.4325 - val_accuracy: 0.8125\n",
            "Epoch 8/50\n",
            "374/374 [==============================] - 1s 2ms/step - loss: 0.4088 - accuracy: 0.8293 - val_loss: 0.4257 - val_accuracy: 0.8154\n",
            "Epoch 9/50\n",
            "374/374 [==============================] - 1s 2ms/step - loss: 0.4012 - accuracy: 0.8300 - val_loss: 0.4189 - val_accuracy: 0.8217\n",
            "Epoch 10/50\n",
            "374/374 [==============================] - 1s 2ms/step - loss: 0.3940 - accuracy: 0.8364 - val_loss: 0.4126 - val_accuracy: 0.8263\n",
            "Epoch 11/50\n",
            "374/374 [==============================] - 1s 2ms/step - loss: 0.3878 - accuracy: 0.8377 - val_loss: 0.4088 - val_accuracy: 0.8271\n",
            "Epoch 12/50\n",
            "374/374 [==============================] - 1s 2ms/step - loss: 0.3825 - accuracy: 0.8414 - val_loss: 0.4050 - val_accuracy: 0.8283\n",
            "Epoch 13/50\n",
            "374/374 [==============================] - 1s 2ms/step - loss: 0.3774 - accuracy: 0.8446 - val_loss: 0.4010 - val_accuracy: 0.8321\n",
            "Epoch 14/50\n",
            "374/374 [==============================] - 1s 2ms/step - loss: 0.3730 - accuracy: 0.8459 - val_loss: 0.3980 - val_accuracy: 0.8354\n",
            "Epoch 15/50\n",
            "374/374 [==============================] - 1s 2ms/step - loss: 0.3691 - accuracy: 0.8471 - val_loss: 0.3954 - val_accuracy: 0.8354\n",
            "Epoch 16/50\n",
            "374/374 [==============================] - 1s 2ms/step - loss: 0.3658 - accuracy: 0.8459 - val_loss: 0.3928 - val_accuracy: 0.8392\n",
            "Epoch 17/50\n",
            "374/374 [==============================] - 1s 2ms/step - loss: 0.3629 - accuracy: 0.8482 - val_loss: 0.3908 - val_accuracy: 0.8363\n",
            "Epoch 18/50\n",
            "374/374 [==============================] - 1s 2ms/step - loss: 0.3601 - accuracy: 0.8507 - val_loss: 0.3883 - val_accuracy: 0.8383\n",
            "Epoch 19/50\n",
            "374/374 [==============================] - 1s 2ms/step - loss: 0.3576 - accuracy: 0.8504 - val_loss: 0.3873 - val_accuracy: 0.8417\n",
            "Epoch 20/50\n",
            "374/374 [==============================] - 1s 2ms/step - loss: 0.3554 - accuracy: 0.8521 - val_loss: 0.3849 - val_accuracy: 0.8404\n",
            "Epoch 21/50\n",
            "374/374 [==============================] - 1s 2ms/step - loss: 0.3535 - accuracy: 0.8545 - val_loss: 0.3833 - val_accuracy: 0.8408\n",
            "Epoch 22/50\n",
            "374/374 [==============================] - 1s 2ms/step - loss: 0.3512 - accuracy: 0.8532 - val_loss: 0.3827 - val_accuracy: 0.8454\n",
            "Epoch 23/50\n",
            "374/374 [==============================] - 1s 2ms/step - loss: 0.3501 - accuracy: 0.8543 - val_loss: 0.3815 - val_accuracy: 0.8433\n",
            "Epoch 24/50\n",
            "374/374 [==============================] - 1s 2ms/step - loss: 0.3487 - accuracy: 0.8559 - val_loss: 0.3804 - val_accuracy: 0.8433\n",
            "Epoch 25/50\n",
            "374/374 [==============================] - 1s 2ms/step - loss: 0.3472 - accuracy: 0.8552 - val_loss: 0.3802 - val_accuracy: 0.8479\n",
            "Epoch 26/50\n",
            "374/374 [==============================] - 1s 2ms/step - loss: 0.3461 - accuracy: 0.8557 - val_loss: 0.3783 - val_accuracy: 0.8475\n",
            "Epoch 27/50\n",
            "374/374 [==============================] - 1s 2ms/step - loss: 0.3447 - accuracy: 0.8571 - val_loss: 0.3793 - val_accuracy: 0.8475\n",
            "Epoch 28/50\n",
            "374/374 [==============================] - 1s 2ms/step - loss: 0.3439 - accuracy: 0.8561 - val_loss: 0.3785 - val_accuracy: 0.8454\n",
            "Epoch 29/50\n",
            "374/374 [==============================] - 1s 2ms/step - loss: 0.3429 - accuracy: 0.8577 - val_loss: 0.3761 - val_accuracy: 0.8479\n",
            "Epoch 30/50\n",
            "374/374 [==============================] - 1s 2ms/step - loss: 0.3420 - accuracy: 0.8570 - val_loss: 0.3752 - val_accuracy: 0.8483\n",
            "Epoch 31/50\n",
            "374/374 [==============================] - 1s 2ms/step - loss: 0.3412 - accuracy: 0.8593 - val_loss: 0.3754 - val_accuracy: 0.8504\n",
            "Epoch 32/50\n",
            "374/374 [==============================] - 1s 2ms/step - loss: 0.3400 - accuracy: 0.8582 - val_loss: 0.3767 - val_accuracy: 0.8450\n",
            "Epoch 33/50\n",
            "374/374 [==============================] - 1s 2ms/step - loss: 0.3396 - accuracy: 0.8577 - val_loss: 0.3744 - val_accuracy: 0.8492\n",
            "Epoch 34/50\n",
            "374/374 [==============================] - 1s 2ms/step - loss: 0.3385 - accuracy: 0.8580 - val_loss: 0.3742 - val_accuracy: 0.8479\n",
            "Epoch 35/50\n",
            "374/374 [==============================] - 1s 2ms/step - loss: 0.3377 - accuracy: 0.8579 - val_loss: 0.3742 - val_accuracy: 0.8500\n",
            "Epoch 36/50\n",
            "374/374 [==============================] - 1s 2ms/step - loss: 0.3375 - accuracy: 0.8579 - val_loss: 0.3731 - val_accuracy: 0.8483\n",
            "Epoch 37/50\n",
            "374/374 [==============================] - 1s 2ms/step - loss: 0.3367 - accuracy: 0.8605 - val_loss: 0.3736 - val_accuracy: 0.8517\n",
            "Epoch 38/50\n",
            "374/374 [==============================] - 1s 2ms/step - loss: 0.3363 - accuracy: 0.8573 - val_loss: 0.3732 - val_accuracy: 0.8496\n",
            "Epoch 39/50\n",
            "374/374 [==============================] - 1s 2ms/step - loss: 0.3358 - accuracy: 0.8589 - val_loss: 0.3721 - val_accuracy: 0.8500\n",
            "Epoch 40/50\n",
            "374/374 [==============================] - 1s 2ms/step - loss: 0.3352 - accuracy: 0.8595 - val_loss: 0.3730 - val_accuracy: 0.8500\n",
            "Epoch 41/50\n",
            "374/374 [==============================] - 1s 2ms/step - loss: 0.3350 - accuracy: 0.8577 - val_loss: 0.3716 - val_accuracy: 0.8500\n",
            "Epoch 42/50\n",
            "374/374 [==============================] - 1s 2ms/step - loss: 0.3340 - accuracy: 0.8604 - val_loss: 0.3715 - val_accuracy: 0.8525\n",
            "Epoch 43/50\n",
            "374/374 [==============================] - 1s 2ms/step - loss: 0.3335 - accuracy: 0.8580 - val_loss: 0.3726 - val_accuracy: 0.8458\n",
            "Epoch 44/50\n",
            "374/374 [==============================] - 1s 2ms/step - loss: 0.3330 - accuracy: 0.8596 - val_loss: 0.3715 - val_accuracy: 0.8483\n",
            "Epoch 45/50\n",
            "374/374 [==============================] - 1s 2ms/step - loss: 0.3326 - accuracy: 0.8593 - val_loss: 0.3704 - val_accuracy: 0.8496\n",
            "Epoch 46/50\n",
            "374/374 [==============================] - 1s 2ms/step - loss: 0.3325 - accuracy: 0.8598 - val_loss: 0.3709 - val_accuracy: 0.8533\n",
            "Epoch 47/50\n",
            "374/374 [==============================] - 1s 2ms/step - loss: 0.3321 - accuracy: 0.8621 - val_loss: 0.3705 - val_accuracy: 0.8508\n",
            "Epoch 48/50\n",
            "374/374 [==============================] - 1s 2ms/step - loss: 0.3312 - accuracy: 0.8591 - val_loss: 0.3710 - val_accuracy: 0.8492\n",
            "Epoch 49/50\n",
            "374/374 [==============================] - 1s 2ms/step - loss: 0.3308 - accuracy: 0.8571 - val_loss: 0.3699 - val_accuracy: 0.8512\n",
            "Epoch 50/50\n",
            "374/374 [==============================] - 1s 2ms/step - loss: 0.3305 - accuracy: 0.8587 - val_loss: 0.3699 - val_accuracy: 0.8492\n"
          ],
          "name": "stdout"
        }
      ]
    },
    {
      "cell_type": "code",
      "metadata": {
        "id": "ujjEmf_hLth4",
        "outputId": "f29e15a0-3e78-467c-cc53-d3593b81a17b",
        "colab": {
          "base_uri": "https://localhost:8080/",
          "height": 295
        }
      },
      "source": [
        "# Graph for Loss\n",
        "plt.plot(model_fit.history['loss'])\n",
        "plt.plot(model_fit.history['val_loss'])\n",
        "plt.title('Accuracy_loss')\n",
        "plt.ylabel('loss')\n",
        "plt.xlabel('epoch')\n",
        "plt.legend(['train','test'], loc='upper left')\n",
        "plt.show()"
      ],
      "execution_count": 71,
      "outputs": [
        {
          "output_type": "display_data",
          "data": {
            "image/png": "[encoded data removed]",
            "text/plain": [
              "<Figure size 432x288 with 1 Axes>"
            ]
          },
          "metadata": {
            "tags": [],
            "needs_background": "light"
          }
        }
      ]
    },
    {
      "cell_type": "code",
      "metadata": {
        "id": "QMp0H6NYNKzu",
        "outputId": "73e2a93a-7201-4e32-e9ce-400048a5c85a",
        "colab": {
          "base_uri": "https://localhost:8080/",
          "height": 295
        }
      },
      "source": [
        "# Graph for Model Accuracy\n",
        "plt.plot(model_fit.history['accuracy'])\n",
        "plt.plot(model_fit.history['val_accuracy'])\n",
        "plt.title('Accuracy')\n",
        "plt.ylabel('accuracy')\n",
        "plt.xlabel('epoch')\n",
        "plt.legend(['train','test'], loc='upper left')\n",
        "plt.show()"
      ],
      "execution_count": 72,
      "outputs": [
        {
          "output_type": "display_data",
          "data": {
            "image/png": "[encoded data removed]",
            "text/plain": [
              "<Figure size 432x288 with 1 Axes>"
            ]
          },
          "metadata": {
            "tags": [],
            "needs_background": "light"
          }
        }
      ]
    },
    {
      "cell_type": "code",
      "metadata": {
        "id": "YkMBri8_ODma"
      },
      "source": [
        "# Check the Test dataset\n",
        "y_pred= model.predict(x_test)\n",
        "y_pred= (y_pred>0.5)"
      ],
      "execution_count": 73,
      "outputs": []
    },
    {
      "cell_type": "code",
      "metadata": {
        "id": "OuqlbFufNj0G",
        "outputId": "7adba370-a0af-43e8-8da9-3024e2f3f920",
        "colab": {
          "base_uri": "https://localhost:8080/"
        }
      },
      "source": [
        "# To Print confusion matrix\n",
        "from sklearn.metrics import confusion_matrix\n",
        "cm= confusion_matrix(y_pred, y_test)\n",
        "cm"
      ],
      "execution_count": 74,
      "outputs": [
        {
          "output_type": "execute_result",
          "data": {
            "text/plain": [
              "array([[1514,  207],\n",
              "       [  81,  198]])"
            ]
          },
          "metadata": {
            "tags": []
          },
          "execution_count": 74
        }
      ]
    }
  ]
}